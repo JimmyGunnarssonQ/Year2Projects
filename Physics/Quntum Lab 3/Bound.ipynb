{
  "nbformat": 4,
  "nbformat_minor": 0,
  "metadata": {
    "colab": {
      "name": "Bound.ipynb",
      "provenance": [],
      "collapsed_sections": []
    },
    "kernelspec": {
      "name": "python3",
      "display_name": "Python 3"
    }
  },
  "cells": [
    {
      "cell_type": "code",
      "metadata": {
        "id": "obmd6qRZOj0K",
        "colab": {
          "base_uri": "https://localhost:8080/",
          "height": 231
        },
        "outputId": "3ea61a00-058d-40c7-a7bf-c903dad1a779"
      },
      "source": [
        "# program for finding bound state energies#\n",
        "import numpy as np\n",
        "import matplotlib.pyplot as plt\n",
        "# define parameters\n",
        "Listwavelength = [744,724,692,664]\n",
        "# width in meters\n",
        "q=1.6*10**(-19) \n",
        "# electron charge\n",
        "v0=0.22\n",
        "# potential well height, in Joule\n",
        "Esteps=1000 \n",
        "# number of steps in energy vector\n",
        "#E=np.linspace(0,V0,Esteps) \n",
        "# energy vector\n",
        "m0=9.1*10**(-31) \n",
        "# free electron mass\n",
        "me=0.13*m0 # effective electron mass\n",
        "mh=0.45*m0 # effective hole mass\n",
        "hbar=1.05*10**(-34) # plancks constant\n",
        "minidelta = []\n",
        "for i in Listwavelength:\n",
        "    print(\"For the {} nm peak,\".format(i), energy(i)/(1.6*10**(-19)) - 1.52, \"eV\")\n",
        "    \n",
        "print(\"Green energy:\", energy(545)/(1.6*10**(-19)), \"eV\")\n",
        "print(\"Orange energy:\", energy(605)/(1.6*10**(-19)), \"eV\")\n",
        "for i in Listwavelength:\n",
        "    minidelta.append(energy(i) - 1.52*1.6*10**(-19))\n",
        "    print(\"For the {} nm peak,\".format(i), energy(i)/(1.6*10**(-19)) - 1.52, \"eV\")\n",
        "    \n",
        "\n",
        "g = energy(545)\n",
        "o = energy(605)\n",
        "Eg = 1.74*q\n",
        "def energy(wavelength):\n",
        "    la=wavelength*10**(-9)\n",
        "    return \t299792458/la*2*np.pi*hbar\n",
        "def a(w):\n",
        "    return np.sqrt(3*hbar**2*np.pi**2/2*(1/me + 1/mh)*1/(energy(w) - Eg))\n",
        "\n",
        "def b(w):\n",
        "    return a(w)*np.sqrt(2.2/3)\n",
        "\n",
        "print(a(550))\n",
        "print(b(605))\n",
        "\n",
        "\n",
        "me=0.067*m0 # effective electron mass\n",
        "mh=0.48*m0 # effective hole mass\n",
        "\n",
        "def Energye(E):\n",
        "    return np.tan(L/2*np.sqrt(2*me/hbar**2*E)) - np.sqrt((V0-E)/E)\n",
        "\n",
        "def Energyh(E):\n",
        "    return np.tan(L/2*np.sqrt(2*mh/hbar**2*E)) - np.sqrt((V0-E)/E)\n",
        "Erang = np.linspace(0.01*q, v0*q, 1000)\n",
        "def length(Lam):\n",
        "    Elam = energy(Lam)\n",
        "    Llist = [i/2*10**(-9) for i in range(1,20)]\n",
        "    for i in Llist:\n",
        "        L = i\n",
        "        for j in Erang:\n",
        "            if abs(Energye(j))<10**(-3):\n",
        "                break \n",
        "        for k in Erang:\n",
        "            if abs(Energyh(j))<10**(-3):\n",
        "                break \n",
        "        if abs(Elam/q-1.52-j/q-k/q)<10**(-2):\n",
        "            break\n",
        "        else:\n",
        "            pass\n",
        "    return i, j, k\n",
        "L=9.5*10**(-9)\n",
        "plt.plot(Erang, Energye(Erang))\n",
        "plt.plot(Erang, Energyh(Erang))\n",
        "\"\"\"\n",
        "Skip this cell, done the code below.\n",
        "\"\"\""
      ],
      "execution_count": 1,
      "outputs": [
        {
          "output_type": "error",
          "ename": "NameError",
          "evalue": "ignored",
          "traceback": [
            "\u001b[0;31m---------------------------------------------------------------------------\u001b[0m",
            "\u001b[0;31mNameError\u001b[0m                                 Traceback (most recent call last)",
            "\u001b[0;32m<ipython-input-1-62866419bfb9>\u001b[0m in \u001b[0;36m<module>\u001b[0;34m()\u001b[0m\n\u001b[1;32m     20\u001b[0m \u001b[0mminidelta\u001b[0m \u001b[0;34m=\u001b[0m \u001b[0;34m[\u001b[0m\u001b[0;34m]\u001b[0m\u001b[0;34m\u001b[0m\u001b[0;34m\u001b[0m\u001b[0m\n\u001b[1;32m     21\u001b[0m \u001b[0;32mfor\u001b[0m \u001b[0mi\u001b[0m \u001b[0;32min\u001b[0m \u001b[0mListwavelength\u001b[0m\u001b[0;34m:\u001b[0m\u001b[0;34m\u001b[0m\u001b[0;34m\u001b[0m\u001b[0m\n\u001b[0;32m---> 22\u001b[0;31m     \u001b[0mprint\u001b[0m\u001b[0;34m(\u001b[0m\u001b[0;34m\"For the {} nm peak,\"\u001b[0m\u001b[0;34m.\u001b[0m\u001b[0mformat\u001b[0m\u001b[0;34m(\u001b[0m\u001b[0mi\u001b[0m\u001b[0;34m)\u001b[0m\u001b[0;34m,\u001b[0m \u001b[0menergy\u001b[0m\u001b[0;34m(\u001b[0m\u001b[0mi\u001b[0m\u001b[0;34m)\u001b[0m\u001b[0;34m/\u001b[0m\u001b[0;34m(\u001b[0m\u001b[0;36m1.6\u001b[0m\u001b[0;34m*\u001b[0m\u001b[0;36m10\u001b[0m\u001b[0;34m**\u001b[0m\u001b[0;34m(\u001b[0m\u001b[0;34m-\u001b[0m\u001b[0;36m19\u001b[0m\u001b[0;34m)\u001b[0m\u001b[0;34m)\u001b[0m \u001b[0;34m-\u001b[0m \u001b[0;36m1.52\u001b[0m\u001b[0;34m,\u001b[0m \u001b[0;34m\"eV\"\u001b[0m\u001b[0;34m)\u001b[0m\u001b[0;34m\u001b[0m\u001b[0;34m\u001b[0m\u001b[0m\n\u001b[0m\u001b[1;32m     23\u001b[0m \u001b[0;34m\u001b[0m\u001b[0m\n\u001b[1;32m     24\u001b[0m \u001b[0mprint\u001b[0m\u001b[0;34m(\u001b[0m\u001b[0;34m\"Green energy:\"\u001b[0m\u001b[0;34m,\u001b[0m \u001b[0menergy\u001b[0m\u001b[0;34m(\u001b[0m\u001b[0;36m545\u001b[0m\u001b[0;34m)\u001b[0m\u001b[0;34m/\u001b[0m\u001b[0;34m(\u001b[0m\u001b[0;36m1.6\u001b[0m\u001b[0;34m*\u001b[0m\u001b[0;36m10\u001b[0m\u001b[0;34m**\u001b[0m\u001b[0;34m(\u001b[0m\u001b[0;34m-\u001b[0m\u001b[0;36m19\u001b[0m\u001b[0;34m)\u001b[0m\u001b[0;34m)\u001b[0m\u001b[0;34m,\u001b[0m \u001b[0;34m\"eV\"\u001b[0m\u001b[0;34m)\u001b[0m\u001b[0;34m\u001b[0m\u001b[0;34m\u001b[0m\u001b[0m\n",
            "\u001b[0;31mNameError\u001b[0m: name 'energy' is not defined"
          ]
        }
      ]
    },
    {
      "cell_type": "code",
      "metadata": {
        "id": "A6RibBtJEGH8",
        "colab": {
          "base_uri": "https://localhost:8080/"
        },
        "outputId": "21f2ab7d-f5ba-4558-8f58-cf723086cda4"
      },
      "source": [
        "import numpy as np\n",
        "import matplotlib.pyplot as plt\n",
        "L = 9 * 10 **(-9) #Guess of a length\n",
        "ECharge = 1.6 * 10 ** (-19) #Electron charge\n",
        "V0 = 0.22 * ECharge #Potential\n",
        "Esteps = 1000\n",
        "E = np.linspace(0, V0, Esteps)\n",
        "m0=9.1*10**(-31) # free electron mass\n",
        "me=0.067*m0 # effective electron mass\n",
        "mh=0.48*m0 # effective hole mass\n",
        "hbar=1.05*10**(-34) # plancks constant\n",
        "np.seterr(divide='ignore') #Doing so that linspace(0) is ignored, because we're going to devide\n",
        "RHS = np.sqrt((V0-E)/E)\n",
        "LHSe=np.tan(L/2*np.sqrt(2*me/hbar**2*E))\n",
        "LHSh=np.tan(L/2*np.sqrt(2*mh/hbar**2*E))\n",
        "\n",
        "Listwavelength = [744,724,692,664]\n",
        "FixedEnergy = []\n",
        "def energy(wavelength):\n",
        "    la=wavelength*10**(-9)\n",
        "    return \t299792458/la*2*np.pi*hbar\n",
        "for element in Listwavelength:\n",
        "    FixedEnergy.append(energy(element) - 1.52*1.6*10**(-19))\n",
        "    print(f\"For the wavelength {element}, the energy is {energy(element)/(1.6*10**(-19)) - 1.52} eV\")\n"
      ],
      "execution_count": 2,
      "outputs": [
        {
          "output_type": "stream",
          "text": [
            "For the wavelength 744, the energy is 0.14148701753553028 eV\n",
            "For the wavelength 724, the energy is 0.18738444895916406 eV\n",
            "For the wavelength 692, the energy is 0.2663386431306862 eV\n",
            "For the wavelength 664, the energy is 0.34166617627475104 eV\n"
          ],
          "name": "stdout"
        }
      ]
    },
    {
      "cell_type": "code",
      "metadata": {
        "id": "cElalPlTFqDh",
        "colab": {
          "base_uri": "https://localhost:8080/",
          "height": 197
        },
        "outputId": "a781e664-d813-4cff-cd06-06ffee8f4ded"
      },
      "source": [
        "def Main():\n",
        "    Arbval=[0.5e-9,1e-9,1.5e-9,2e-9,2.5e-9,3e-9,3.5e-9,4e-9,5e-9,6e-9,7e-9] # Some arbitrary values just for reference\n",
        "    Peaks = Listwavelength.copy()\n",
        "    error=10**(-2)#Treshold boundry\n",
        "    for i in range(len(Arbval)):#Just \n",
        "        RHS=np.sqrt((V0-E)/E)\n",
        "        LHSe=np.tan(Arbval[i]/2*np.sqrt(2*me/hbar**2*E))\n",
        "        LHSh=np.tan(Arbval[i]/2*np.sqrt(2*mh/hbar**2*E))\n",
        "        intersection1=[]\n",
        "        intersection2=[]\n",
        "        for j in range(1000):\n",
        "            if abs(RHS[j]-LHSe[j])<error:#We're just looking at the intersection\n",
        "                intersection1.append(RHS[j])\n",
        "            if abs(RHS[j]-LHSh[j])<error: #We're just looking at the intersection\n",
        "                intersection2.append(RHS[j])\n",
        "        num1 = list(RHS).index(intersection1[0])#Finding a specific element in RHS\n",
        "        num2 = list(RHS).index(intersection2[0])#Finding a specific element in RHS\n",
        "        A = E[num1]/ECharge\n",
        "        B = E[num2]/ECharge\n",
        "        TotalEnergy = (A+B)*ECharge\n",
        "        print(f\"The energy at the wavelength {Arbval[i]} is {TotalEnergy}\")\n",
        "        lambdy=6.626e-34*2.99e8/(TotalEnergy+1.52*ECharge)#A Trehshold thing, seen in compendium\n",
        "        for k in range(len(Peaks)):\n",
        "           if abs(Peaks[k]-lambdy)< (10**(-30)):\n",
        "              print(f\"The peak {Peaks[k]} where the difference is {Peaks[k]-lambdy}\") #Thus it's a peak at that wavelength\n",
        "\n"
      ],
      "execution_count": 3,
      "outputs": [
        {
          "output_type": "error",
          "ename": "NameError",
          "evalue": "ignored",
          "traceback": [
            "\u001b[0;31m---------------------------------------------------------------------------\u001b[0m",
            "\u001b[0;31mNameError\u001b[0m                                 Traceback (most recent call last)",
            "\u001b[0;32m<ipython-input-3-425b3bc348d9>\u001b[0m in \u001b[0;36m<module>\u001b[0;34m()\u001b[0m\n\u001b[1;32m     25\u001b[0m               \u001b[0mprint\u001b[0m\u001b[0;34m(\u001b[0m\u001b[0;34mf\"The peak {Peaks[k]} where the difference is {Peaks[k]-lambdy}\"\u001b[0m\u001b[0;34m)\u001b[0m \u001b[0;31m#Thus it's a peak at that wavelength\u001b[0m\u001b[0;34m\u001b[0m\u001b[0;34m\u001b[0m\u001b[0m\n\u001b[1;32m     26\u001b[0m \u001b[0;34m\u001b[0m\u001b[0m\n\u001b[0;32m---> 27\u001b[0;31m \u001b[0mprint\u001b[0m\u001b[0;34m(\u001b[0m\u001b[0mmain\u001b[0m\u001b[0;34m(\u001b[0m\u001b[0;36m744\u001b[0m\u001b[0;34m)\u001b[0m\u001b[0;34m)\u001b[0m\u001b[0;34m\u001b[0m\u001b[0;34m\u001b[0m\u001b[0m\n\u001b[0m",
            "\u001b[0;31mNameError\u001b[0m: name 'main' is not defined"
          ]
        }
      ]
    },
    {
      "cell_type": "code",
      "metadata": {
        "colab": {
          "base_uri": "https://localhost:8080/",
          "height": 269
        },
        "id": "qWsu-C9ief8C",
        "outputId": "228e2f39-f886-4b67-b709-d4b6f721fc86"
      },
      "source": [
        "plt.plot(E/ECharge,RHS,'blue') \n",
        "plt.plot(E/ECharge,LHSe,'black')\n",
        "plt.plot(E/ECharge,LHSh,'red')\n",
        "plt.ylim([0,3])  # set y-axis range\n",
        "plt.xlim([0,0.22]) # set x-axis range\n",
        "plt.show()"
      ],
      "execution_count": 4,
      "outputs": [
        {
          "output_type": "display_data",
          "data": {
            "image/png": "[encoded data removed]",
            "text/plain": [
              "<Figure size 432x288 with 1 Axes>"
            ]
          },
          "metadata": {
            "tags": [],
            "needs_background": "light"
          }
        }
      ]
    },
    {
      "cell_type": "code",
      "metadata": {
        "id": "b5s2La2Iew7m"
      },
      "source": [
        ""
      ],
      "execution_count": null,
      "outputs": []
    }
  ]
}