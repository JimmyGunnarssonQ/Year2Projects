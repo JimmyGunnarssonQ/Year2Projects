{
  "nbformat": 4,
  "nbformat_minor": 0,
  "metadata": {
    "colab": {
      "name": "Stirling Numbers of Second Kind",
      "provenance": []
    },
    "kernelspec": {
      "name": "python3",
      "display_name": "Python 3"
    },
    "language_info": {
      "name": "python"
    }
  },
  "cells": [
    {
      "cell_type": "code",
      "metadata": {
        "id": "MZWIAO1qMLRi"
      },
      "source": [
        "from numpy import zeros\n",
        "\n",
        "def S(m, k = True): #Here we generate a mxm Matrix through a function, wherein the element a_{ij} of the Matrix corresponds to the Stirling number S(i,j). Hence a matrix of Stirling numbers \n",
        "    A = zeros((m,m)) #Here we define the skeleton of our array of Stirling numbers, we choose 0:s as they are easily ignored when printing the array\n",
        "    for i in range(0,m):\n",
        "        A[i][0] = int(1) #Here we use int to clearly distinguish it from floats so we clearly know that we work in the natural numbers. Also clearly this is S(m,1)=1\n",
        "        A[i][i] = int(1) #Here S(m,m)=1\n",
        "        if i == 0: #Since we have for-loops we don't wanna mess with unvalid ranges\n",
        "          pass \n",
        "        else:\n",
        "          for j in range(1,i): #foor loop to define our Stirling matrix\n",
        "            A[i][j] = int(A[i-1][j-1] + (j+1)*A[i-1][j]) #Our recurssion formula, here we need to be careful with the way we define n as Python counts from 0 as our \"1\"\n",
        "    if k == True: #Here we have clearly written S(1,2) as having 2 arguments, but we don't always wish to know how big our matrix is \n",
        "      print(\"'0' is to be read as not defined Stirling number based on bounds. The {}x{} matrix associated with the Stirling numbers is:\".format(m,m)) #Prints the shape of our Stirling Matrix\n",
        "    return A #Returns our Stirling matrix with our given \n",
        "def Sn(m,n): #generating the (j,k):th element from the Stirling Matrix. \n",
        "  if n>m: #Here we simply don't want n>m by def of upper bound\n",
        "    return (\"bad domain, choose: \" + r\"$n\\leq m$\", \" & choosen values were n = {}\".format(n)) #Gives ERROR if it were to be forbidden i.e n>m\n",
        "  if n<1: #Likewise here for our lower bound\n",
        "    return (\"Invalid domain, choose:  \" + r\"$n,m \\in \\mathhbbf\\mathbb{Z}^+$$.\") #Gives ERROR if it were to be forbidden i.e n<1\n",
        "  else: \n",
        "    print(\"The stirling number S({},{}) is: \".format(m,n)) #Here we just print useful info for the reader\n",
        "    return  S(m, False)[m-1][n-1] #Here we print our Stirling Number (m,n)"
      ],
      "execution_count": null,
      "outputs": []
    },
    {
      "cell_type": "markdown",
      "metadata": {
        "id": "68HBhh_QIosn"
      },
      "source": [
        "##Task 2:"
      ]
    },
    {
      "cell_type": "code",
      "metadata": {
        "colab": {
          "base_uri": "https://localhost:8080/"
        },
        "id": "6aiQ8_aeManV",
        "outputId": "bc084ff3-9a6b-41e7-e4bc-417abeac281b"
      },
      "source": [
        "Sn(12,5) #printing the requested values S(12,5)"
      ],
      "execution_count": null,
      "outputs": [
        {
          "output_type": "stream",
          "text": [
            "The stirling number S(12,5) is: \n"
          ],
          "name": "stdout"
        },
        {
          "output_type": "execute_result",
          "data": {
            "text/plain": [
              "1379400.0"
            ]
          },
          "metadata": {
            "tags": []
          },
          "execution_count": 2
        }
      ]
    },
    {
      "cell_type": "code",
      "metadata": {
        "colab": {
          "base_uri": "https://localhost:8080/"
        },
        "id": "ike0z1y9YdG3",
        "outputId": "15fce712-0619-4ba3-bb8f-8ee5e83a56e2"
      },
      "source": [
        "Sn(13,8) #And for S(13,8)"
      ],
      "execution_count": null,
      "outputs": [
        {
          "output_type": "stream",
          "text": [
            "The stirling number S(13,8) is: \n"
          ],
          "name": "stdout"
        },
        {
          "output_type": "execute_result",
          "data": {
            "text/plain": [
              "1899612.0"
            ]
          },
          "metadata": {
            "tags": []
          },
          "execution_count": 3
        }
      ]
    },
    {
      "cell_type": "markdown",
      "metadata": {
        "id": "ywGWHgeBIubi"
      },
      "source": [
        "##Task 3:"
      ]
    },
    {
      "cell_type": "code",
      "metadata": {
        "colab": {
          "base_uri": "https://localhost:8080/"
        },
        "id": "UGBIkS3qYdqf",
        "outputId": "835b3c94-78bd-4329-e784-340023b9dba8"
      },
      "source": [
        "\n",
        "for i in range(0,10): #Now we wish we print as the task requests, S(1,n), S(2,n), etc \n",
        "  L = []\n",
        "  for j in range(0,i+1):\n",
        "    L.append(S(10,False)[i][j])\n",
        "  if i == 0:\n",
        "    print(\"1:st row:\", L)\n",
        "  if i == 1:\n",
        "    print(\"2:nd row:\", L) #This if-statement chain looks ugly because English is inconsistent, and is just here for clarity for the reader\n",
        "  if i == 2:\n",
        "    print(\"3:rd row:\", L)\n",
        "  if i>2:\n",
        "    print(\"{}:th row:\".format(i+1),L)\n",
        "#Consider this the end of the assignment. The code block below is primarily as a nod to a response I got from Tien, as I wrote this block while awaiting an answer on 09/04/21.\n"
      ],
      "execution_count": null,
      "outputs": [
        {
          "output_type": "stream",
          "text": [
            "1:st row: [1.0]\n",
            "2:nd row: [1.0, 1.0]\n",
            "3:rd row: [1.0, 3.0, 1.0]\n",
            "4:th row: [1.0, 7.0, 6.0, 1.0]\n",
            "5:th row: [1.0, 15.0, 25.0, 10.0, 1.0]\n",
            "6:th row: [1.0, 31.0, 90.0, 65.0, 15.0, 1.0]\n",
            "7:th row: [1.0, 63.0, 301.0, 350.0, 140.0, 21.0, 1.0]\n",
            "8:th row: [1.0, 127.0, 966.0, 1701.0, 1050.0, 266.0, 28.0, 1.0]\n",
            "9:th row: [1.0, 255.0, 3025.0, 7770.0, 6951.0, 2646.0, 462.0, 36.0, 1.0]\n",
            "10:th row: [1.0, 511.0, 9330.0, 34105.0, 42525.0, 22827.0, 5880.0, 750.0, 45.0, 1.0]\n"
          ],
          "name": "stdout"
        }
      ]
    },
    {
      "cell_type": "code",
      "metadata": {
        "colab": {
          "base_uri": "https://localhost:8080/"
        },
        "id": "YCFyOE0MvV4V",
        "outputId": "648bacae-6df5-4b97-c6d8-cf38f4fc6338"
      },
      "source": [
        "S(10) #Here is our 10x10 Stirling Number Matrix \n",
        "#Originally I wanted Tien to just see this Matrix, as written in the E-mail, but I got impatient and wrote the above code as compensation for the \"ugliness\".\n",
        "#One may, for example, consider a to-do for how to clean up the scientific notation, as currently I tried f strings, ints, etc but nothing gave results. "
      ],
      "execution_count": null,
      "outputs": [
        {
          "output_type": "stream",
          "text": [
            "'0' is to be read as not defined Stirling number based on bounds. The 10x10 matrix associated with the Stirling numbers is:\n"
          ],
          "name": "stdout"
        },
        {
          "output_type": "execute_result",
          "data": {
            "text/plain": [
              "array([[1.0000e+00, 0.0000e+00, 0.0000e+00, 0.0000e+00, 0.0000e+00,\n",
              "        0.0000e+00, 0.0000e+00, 0.0000e+00, 0.0000e+00, 0.0000e+00],\n",
              "       [1.0000e+00, 1.0000e+00, 0.0000e+00, 0.0000e+00, 0.0000e+00,\n",
              "        0.0000e+00, 0.0000e+00, 0.0000e+00, 0.0000e+00, 0.0000e+00],\n",
              "       [1.0000e+00, 3.0000e+00, 1.0000e+00, 0.0000e+00, 0.0000e+00,\n",
              "        0.0000e+00, 0.0000e+00, 0.0000e+00, 0.0000e+00, 0.0000e+00],\n",
              "       [1.0000e+00, 7.0000e+00, 6.0000e+00, 1.0000e+00, 0.0000e+00,\n",
              "        0.0000e+00, 0.0000e+00, 0.0000e+00, 0.0000e+00, 0.0000e+00],\n",
              "       [1.0000e+00, 1.5000e+01, 2.5000e+01, 1.0000e+01, 1.0000e+00,\n",
              "        0.0000e+00, 0.0000e+00, 0.0000e+00, 0.0000e+00, 0.0000e+00],\n",
              "       [1.0000e+00, 3.1000e+01, 9.0000e+01, 6.5000e+01, 1.5000e+01,\n",
              "        1.0000e+00, 0.0000e+00, 0.0000e+00, 0.0000e+00, 0.0000e+00],\n",
              "       [1.0000e+00, 6.3000e+01, 3.0100e+02, 3.5000e+02, 1.4000e+02,\n",
              "        2.1000e+01, 1.0000e+00, 0.0000e+00, 0.0000e+00, 0.0000e+00],\n",
              "       [1.0000e+00, 1.2700e+02, 9.6600e+02, 1.7010e+03, 1.0500e+03,\n",
              "        2.6600e+02, 2.8000e+01, 1.0000e+00, 0.0000e+00, 0.0000e+00],\n",
              "       [1.0000e+00, 2.5500e+02, 3.0250e+03, 7.7700e+03, 6.9510e+03,\n",
              "        2.6460e+03, 4.6200e+02, 3.6000e+01, 1.0000e+00, 0.0000e+00],\n",
              "       [1.0000e+00, 5.1100e+02, 9.3300e+03, 3.4105e+04, 4.2525e+04,\n",
              "        2.2827e+04, 5.8800e+03, 7.5000e+02, 4.5000e+01, 1.0000e+00]])"
            ]
          },
          "metadata": {
            "tags": []
          },
          "execution_count": 7
        }
      ]
    }
  ]
}